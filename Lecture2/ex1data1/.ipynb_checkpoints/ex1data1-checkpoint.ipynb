{
 "cells": [
  {
   "cell_type": "markdown",
   "metadata": {},
   "source": [
    "# Task 2"
   ]
  },
  {
   "cell_type": "markdown",
   "metadata": {},
   "source": [
    "В этом упражнении вы будете реализовывать линейную регрессию с одной\n",
    "переменной, чтобы предсказать прибыль для продовольственного грузовика. Предположим, вы являетесь генеральным директором сети ресторанов с франшизой и хотите понять, где открыть новые заведения. Сеть ресторанов уже имеет грузовики в разных городах, и у вас есть данные о прибыли населения в городах.\n",
    "Вы хотели бы использовать эти данные, чтобы помочь вам выбрать, на какой город расшириться в ближайшем будущем.\n",
    "\n",
    "Файл \"ex1data1.csv\" содержит набор данных для нашей задачи линейной регрессии. \n",
    "\n",
    "Первый столбец - население города в 10 000 людей, то есть значение в данной колонке 17.592 означает, что в городе живёт 6.1101 * 10000 = 61 101 людей.\n",
    "\n",
    "Второй столбец - средняя прибыль продовольственного грузовика в месяц в этом городе в $1000 , то есть 17.592 * 1000 = $17 592 прибыли. Отрицательное значение для прибыли указывает на потери в этом городе, то есть еды привезли больше, чем продали в ресторане.\n",
    "\n",
    "Задача похожа на ту, что мы разбирали на лекции, только с дополнениями.\n",
    "\n",
    "Можно перенести необходимый код из лекционного ноутбука в отдельный .py файл или несколько и импортировать оттуда либо просто скопировать в новый ноутбук.\n",
    "\n",
    "Что предстоит сделать:"
   ]
  },
  {
   "cell_type": "code",
   "execution_count": 2,
   "metadata": {},
   "outputs": [],
   "source": [
    "import numpy as np\n",
    "import pandas as pd\n",
    "import seaborn as sns\n",
    "import matplotlib.pyplot as plt\n",
    "from math import sqrt\n",
    "%matplotlib inline"
   ]
  },
  {
   "cell_type": "markdown",
   "metadata": {},
   "source": [
    "1. Считать данные в pandas dataframe (1 балл)."
   ]
  },
  {
   "cell_type": "code",
   "execution_count": 3,
   "metadata": {},
   "outputs": [
    {
     "data": {
      "text/html": [
       "<div>\n",
       "<style scoped>\n",
       "    .dataframe tbody tr th:only-of-type {\n",
       "        vertical-align: middle;\n",
       "    }\n",
       "\n",
       "    .dataframe tbody tr th {\n",
       "        vertical-align: top;\n",
       "    }\n",
       "\n",
       "    .dataframe thead th {\n",
       "        text-align: right;\n",
       "    }\n",
       "</style>\n",
       "<table border=\"1\" class=\"dataframe\">\n",
       "  <thead>\n",
       "    <tr style=\"text-align: right;\">\n",
       "      <th></th>\n",
       "      <th>population</th>\n",
       "      <th>profit</th>\n",
       "    </tr>\n",
       "  </thead>\n",
       "  <tbody>\n",
       "    <tr>\n",
       "      <td>0</td>\n",
       "      <td>6.1101</td>\n",
       "      <td>17.5920</td>\n",
       "    </tr>\n",
       "    <tr>\n",
       "      <td>1</td>\n",
       "      <td>5.5277</td>\n",
       "      <td>9.1302</td>\n",
       "    </tr>\n",
       "    <tr>\n",
       "      <td>2</td>\n",
       "      <td>8.5186</td>\n",
       "      <td>13.6620</td>\n",
       "    </tr>\n",
       "    <tr>\n",
       "      <td>3</td>\n",
       "      <td>7.0032</td>\n",
       "      <td>11.8540</td>\n",
       "    </tr>\n",
       "    <tr>\n",
       "      <td>4</td>\n",
       "      <td>5.8598</td>\n",
       "      <td>6.8233</td>\n",
       "    </tr>\n",
       "  </tbody>\n",
       "</table>\n",
       "</div>"
      ],
      "text/plain": [
       "   population   profit\n",
       "0      6.1101  17.5920\n",
       "1      5.5277   9.1302\n",
       "2      8.5186  13.6620\n",
       "3      7.0032  11.8540\n",
       "4      5.8598   6.8233"
      ]
     },
     "execution_count": 3,
     "metadata": {},
     "output_type": "execute_result"
    }
   ],
   "source": [
    "data = pd.read_csv('ex1data1.csv')\n",
    "data.head()"
   ]
  },
  {
   "cell_type": "markdown",
   "metadata": {},
   "source": [
    "2. Построить scatter plot зависимости прибыли от кол-ва людей в городе (1 балл)."
   ]
  },
  {
   "cell_type": "code",
   "execution_count": 4,
   "metadata": {},
   "outputs": [
    {
     "data": {
      "image/png": "[encoded data removed]",
      "text/plain": [
       "<Figure size 432x288 with 1 Axes>"
      ]
     },
     "metadata": {
      "needs_background": "light"
     },
     "output_type": "display_data"
    }
   ],
   "source": [
    "data.plot(kind='scatter', x='population', y='profit', title='зависимости прибыли от кол-ва людей в городе');"
   ]
  },
  {
   "cell_type": "markdown",
   "metadata": {},
   "source": [
    "3. Найти матрицу Х и вектор у. Нормализировать данные. Добавить колонку единичек к матрице Х (1 балл)."
   ]
  },
  {
   "cell_type": "code",
   "execution_count": 7,
   "metadata": {},
   "outputs": [
    {
     "name": "stdout",
     "output_type": "stream",
     "text": [
      "X <class 'numpy.ndarray'> (97, 2) [[0.06306437 1.        ]]\n",
      "y <class 'numpy.ndarray'> (97, 1) [[0.75566299]]\n"
     ]
    }
   ],
   "source": [
    "\n",
    "from sklearn import preprocessing\n",
    "\n",
    "scaler = preprocessing.MinMaxScaler()\n",
    "scaled = scaler.fit_transform(data)\n",
    "\n",
    "ones = np.array([1]*len(scaled)).reshape(-1,1)\n",
    "\n",
    "scaled = np.hstack((ones, scaled))\n",
    "\n",
    "X = scaled[:,[1,0]]\n",
    "y = scaled[:,[2]].reshape((-1,1))\n",
    "\n",
    "print('X',type(X),X.shape, X[:1])\n",
    "print('y', type(y), y.shape, y[:1])"
   ]
  },
  {
   "cell_type": "markdown",
   "metadata": {},
   "source": [
    "4. Написать снова или найти в лекционном ноутбуке фукнции mserror, linear_prediction в матричной форме (то есть НЕ через циклы) (1 балл)"
   ]
  },
  {
   "cell_type": "code",
   "execution_count": 8,
   "metadata": {},
   "outputs": [],
   "source": [
    "def linear_prediction(X, theta): \n",
    "    return np.dot(X, theta) \n",
    "\n",
    "# function to compute gradient of error function w.r.t. theta \n",
    "def gradient(X, y, theta): \n",
    "    lp = linear_prediction(X, theta) \n",
    "    grad = np.dot(X.transpose(), (lp - y)) \n",
    "    return grad \n",
    "  \n",
    "# function to compute the error for current values of theta \n",
    "def cost(X, y, theta): \n",
    "    lp = linear_prediction(X, theta) \n",
    "    J = np.dot((lp - y).transpose(), (lp - y)) \n",
    "    J /= 2\n",
    "    return J[0] \n",
    "\n",
    "\n",
    "#https://www.geeksforgeeks.org/ml-mini-batch-gradient-descent-with-python/"
   ]
  },
  {
   "cell_type": "markdown",
   "metadata": {},
   "source": [
    "5. Найти коэффициенты линейной модели методами:\n",
    "    1. Full batch gradient descent (5 баллов если коэффициенты получатся правильные)"
   ]
  },
  {
   "cell_type": "code",
   "execution_count": 69,
   "metadata": {},
   "outputs": [
    {
     "name": "stdout",
     "output_type": "stream",
     "text": [
      "[[1.25887488]]\n"
     ]
    },
    {
     "data": {
      "text/plain": [
       "[<matplotlib.lines.Line2D at 0x21f82676c08>]"
      ]
     },
     "execution_count": 69,
     "metadata": {},
     "output_type": "execute_result"
    },
    {
     "data": {
      "image/png": "[encoded data removed]",
      "text/plain": [
       "<Figure size 432x288 with 1 Axes>"
      ]
     },
     "metadata": {
      "needs_background": "light"
     },
     "output_type": "display_data"
    }
   ],
   "source": [
    "# function to perform full-batch gradient descent \n",
    "def fb_gradientDescent(X, y, max_iters): \n",
    "    theta = np.zeros((X.shape[1], 1))\n",
    "    error_list = [] \n",
    "    for itr in range(max_iters): \n",
    "        theta = theta - gradient(X, y, theta)/max_iters\n",
    "        error_list.append(cost(X, y, theta)) \n",
    "    return theta, error_list\n"
   ]
  },
  {
   "cell_type": "markdown",
   "metadata": {},
   "source": [
    "2. Mini batch gradient descent с размером батча 32 (5 баллов если коэффициенты получатся правильные)"
   ]
  },
  {
   "cell_type": "code",
   "execution_count": 62,
   "metadata": {},
   "outputs": [
    {
     "name": "stdout",
     "output_type": "stream",
     "text": [
      "[[1.17413827]]\n"
     ]
    },
    {
     "data": {
      "text/plain": [
       "[<matplotlib.lines.Line2D at 0x21f80319888>]"
      ]
     },
     "execution_count": 62,
     "metadata": {},
     "output_type": "execute_result"
    },
    {
     "data": {
      "image/png": "[encoded data removed]",
      "text/plain": [
       "<Figure size 432x288 with 1 Axes>"
      ]
     },
     "metadata": {
      "needs_background": "light"
     },
     "output_type": "display_data"
    }
   ],
   "source": [
    "# function to create a list containing mini-batches \n",
    "def create_mini_batches(X, y, batch_size): \n",
    "    mini_batches = [] \n",
    "    data = np.hstack((X, y)) \n",
    "    np.random.shuffle(data) \n",
    "    n_minibatches = data.shape[0] // batch_size \n",
    "    i = 0\n",
    "  \n",
    "    for i in range(n_minibatches + 1): \n",
    "        mini_batch = data[i * batch_size:(i + 1)*batch_size, :] \n",
    "        X_mini = mini_batch[:, :-1] \n",
    "        Y_mini = mini_batch[:, -1].reshape((-1, 1)) \n",
    "        mini_batches.append((X_mini, Y_mini)) \n",
    "    if data.shape[0] % batch_size != 0: \n",
    "        mini_batch = data[i * batch_size:data.shape[0]] \n",
    "        X_mini = mini_batch[:, :-1] \n",
    "        Y_mini = mini_batch[:, -1].reshape((-1, 1)) \n",
    "        mini_batches.append((X_mini, Y_mini)) \n",
    "    return mini_batches \n",
    "  \n",
    "# function to perform mini-batch gradient descent \n",
    "def mb_gradientDescent(X, y, batch_size, max_iters): \n",
    "    theta = np.zeros((X.shape[1], 1)) \n",
    "    error_list = [] \n",
    "    for itr in range(max_iters): \n",
    "        mini_batches = create_mini_batches(X, y, batch_size) \n",
    "        for mini_batch in mini_batches: \n",
    "            X_mini, y_mini = mini_batch \n",
    "            theta = theta - gradient(X_mini, y_mini, theta) / max_iters\n",
    "            error_list.append(cost(X_mini, y_mini, theta)) \n",
    "  \n",
    "    return theta, error_list \n",
    "\n",
    "mb_X = X[:,[0]]\n",
    "mb_y = y\n",
    "\n",
    "mb_theta, mb_error_list = mb_gradientDescent(mb_X, mb_y, 32, 3) \n",
    "print(mb_theta)\n",
    "\n",
    "plt.plot(range(len(mb_error_list)), mb_error_list)"
   ]
  },
  {
   "cell_type": "markdown",
   "metadata": {},
   "source": [
    "3. Stochastic gradient descent (1 балл если коэффициенты получатся правильные - потому что это уже делали на лекции)"
   ]
  },
  {
   "cell_type": "code",
   "execution_count": 65,
   "metadata": {},
   "outputs": [
    {
     "name": "stdout",
     "output_type": "stream",
     "text": [
      "[0.3040124  0.30053895 0.31837676 0.30933887 0.3025196  0.31756745\n",
      " 0.31216105 0.31873162 0.30625547 0.29771737 0.30163037 0.35204609\n",
      " 0.30176933 0.31771953 0.30121289 0.29965448 0.30553502 0.29816765\n",
      " 0.30591791 0.30974204 0.30448356 0.38846246 0.3003147  0.30530063\n",
      " 0.30076081 0.38056012 0.34407815 0.33291945 0.34615363 0.39999092\n",
      " 0.29889705 0.30687096 0.32272812 0.30271045 0.31654283 0.31488661\n",
      " 0.31585577 0.30100772 0.34412586 0.30546345 0.2998185  0.30861902\n",
      " 0.33739844 0.3020061  0.31423832 0.30987504 0.29781041 0.3021713\n",
      " 0.33735073 0.30062185 0.31254156 0.29922686 0.31184794 0.3129167\n",
      " 0.30534059 0.30549625 0.3049911  0.30120692 0.32309789 0.32395313\n",
      " 0.32020653 0.29846108 0.39448016 0.35648333 0.38064361 0.31062114\n",
      " 0.3170438  0.32861939 0.30037017 0.3888859  0.32802299 0.31131476\n",
      " 0.30339274 0.31066706 0.29755216 0.30662345 0.31253202 0.29760942\n",
      " 0.32884602 0.29803406 0.3017407  0.29851535 0.30547717 0.3258324\n",
      " 0.3064326  0.31836842 0.32232257 0.30336769 0.30049541 0.297746\n",
      " 0.30161248 0.31311649 0.30258461 0.29921315 0.31703367 0.34745379\n",
      " 0.29999742]\n",
      "RMSE:  0.18552346929722327\n"
     ]
    }
   ],
   "source": [
    "from sklearn import linear_model\n",
    "from sklearn.metrics import mean_squared_error\n",
    "\n",
    "\n",
    "sgd_x = X\n",
    "sgd_y = y.ravel()\n",
    "\n",
    "Model = linear_model.SGDRegressor(alpha = 0.0001, shuffle=True, max_iter = 1000)\n",
    "Model.fit(sgd_x,sgd_y)\n",
    "y_predicted = Model.predict(sgd_x)\n",
    "\n",
    "sgd_mse = mean_squared_error(sgd_y, y_predicted)\n",
    "print(\"RMSE: \", sqrt(sgd_mse))"
   ]
  },
  {
   "cell_type": "markdown",
   "metadata": {},
   "source": [
    "Для каждого метода (кол-во баллов - за правильную реализацию для каждого из трёх методов):"
   ]
  },
  {
   "cell_type": "markdown",
   "metadata": {},
   "source": [
    "- самостоятельно выбрать количество эпох, обосновать выбор (1 балл). Количество эпох для разных моделей может быть разным, а может быть одинаковым. Кол-во эпох можно выбирать из соображений времени на обучение (видим, что одна итерация занимает 2 секунды и понимаетм, что 10к итераций займут слишком много времени - значит надо бы поставить поменьше) или когда ошибка начинает меняться слишком незначительно, к примеру."
   ]
  },
  {
   "cell_type": "code",
   "execution_count": 72,
   "metadata": {},
   "outputs": [
    {
     "name": "stdout",
     "output_type": "stream",
     "text": [
      "[[1.25887488]]\n"
     ]
    },
    {
     "ename": "TypeError",
     "evalue": "text() missing 2 required positional arguments: 'y' and 's'",
     "output_type": "error",
     "traceback": [
      "\u001b[1;31m---------------------------------------------------------------------------\u001b[0m",
      "\u001b[1;31mTypeError\u001b[0m                                 Traceback (most recent call last)",
      "\u001b[1;32m<ipython-input-72-b4e459aed4fe>\u001b[0m in \u001b[0;36m<module>\u001b[1;34m\u001b[0m\n\u001b[0;32m      8\u001b[0m \u001b[0mplt\u001b[0m\u001b[1;33m.\u001b[0m\u001b[0mxlabel\u001b[0m\u001b[1;33m(\u001b[0m\u001b[1;34m'Iterations'\u001b[0m\u001b[1;33m)\u001b[0m\u001b[1;33m\u001b[0m\u001b[1;33m\u001b[0m\u001b[0m\n\u001b[0;32m      9\u001b[0m \u001b[0mplt\u001b[0m\u001b[1;33m.\u001b[0m\u001b[0mylabel\u001b[0m\u001b[1;33m(\u001b[0m\u001b[1;34m'Error'\u001b[0m\u001b[1;33m)\u001b[0m\u001b[1;33m\u001b[0m\u001b[1;33m\u001b[0m\u001b[0m\n\u001b[1;32m---> 10\u001b[1;33m \u001b[0mplt\u001b[0m\u001b[1;33m.\u001b[0m\u001b[0mtext\u001b[0m\u001b[1;33m(\u001b[0m\u001b[1;34m'Full Batch'\u001b[0m\u001b[1;33m)\u001b[0m\u001b[1;33m\u001b[0m\u001b[1;33m\u001b[0m\u001b[0m\n\u001b[0m\u001b[0;32m     11\u001b[0m \u001b[0mplt\u001b[0m\u001b[1;33m.\u001b[0m\u001b[0mshow\u001b[0m\u001b[1;33m(\u001b[0m\u001b[1;33m)\u001b[0m\u001b[1;33m\u001b[0m\u001b[1;33m\u001b[0m\u001b[0m\n",
      "\u001b[1;31mTypeError\u001b[0m: text() missing 2 required positional arguments: 'y' and 's'"
     ]
    },
    {
     "data": {
      "image/png": "[encoded data removed]",
      "text/plain": [
       "<Figure size 432x288 with 1 Axes>"
      ]
     },
     "metadata": {
      "needs_background": "light"
     },
     "output_type": "display_data"
    }
   ],
   "source": [
    "fb_X = X[:,[0]]\n",
    "fb_y = y\n",
    "\n",
    "fb_theta, fb_error_list = fb_gradientDescent(fb_X, fb_y, 5) \n",
    "print(fb_theta)\n",
    "#print(fb_error_list)\n",
    "plt.plot(range(len(fb_error_list)), fb_error_list)\n",
    "plt.xlabel('Iterations')\n",
    "plt.ylabel('Error')\n",
    "plt.text('Full Batch')\n"
   ]
  },
  {
   "cell_type": "markdown",
   "metadata": {},
   "source": [
    "- вывести график ошибки в процессе обучения с подписями осей абсцисс и ординат  (1 балл)"
   ]
  },
  {
   "cell_type": "code",
   "execution_count": null,
   "metadata": {},
   "outputs": [],
   "source": []
  },
  {
   "cell_type": "markdown",
   "metadata": {},
   "source": [
    " - измерить время обучения и провести анализ, какой из методов работает быстрее (5 баллов)"
   ]
  },
  {
   "cell_type": "code",
   "execution_count": null,
   "metadata": {},
   "outputs": [],
   "source": []
  },
  {
   "cell_type": "markdown",
   "metadata": {},
   "source": [
    "- вывести в ноутбуке полученные в результате применения метода коэффициенты (2 балла)"
   ]
  },
  {
   "cell_type": "code",
   "execution_count": null,
   "metadata": {},
   "outputs": [],
   "source": []
  },
  {
   "cell_type": "markdown",
   "metadata": {},
   "source": [
    "- вывести ошибку финальной модели (2 балла)"
   ]
  },
  {
   "cell_type": "code",
   "execution_count": null,
   "metadata": {},
   "outputs": [],
   "source": []
  },
  {
   "cell_type": "markdown",
   "metadata": {},
   "source": [
    "6. Построить аналогичную предыдущим модель с использованием sklearn.linear_model.LinearRegression . Подумать, какие данные подать на вход и исходя из документации, какие параметры обучения выбрать (10 баллов)."
   ]
  },
  {
   "cell_type": "code",
   "execution_count": null,
   "metadata": {},
   "outputs": [],
   "source": []
  },
  {
   "cell_type": "markdown",
   "metadata": {},
   "source": [
    "7. Сравнить качество четырёх моделей и написать, какая - лучшая."
   ]
  },
  {
   "cell_type": "code",
   "execution_count": null,
   "metadata": {},
   "outputs": [],
   "source": []
  },
  {
   "cell_type": "markdown",
   "metadata": {},
   "source": [
    "Итого, максимальный балл - 1+1+1+1+5+5+1+3*(1+1+5+2+2)+10 = 58\n",
    "\n",
    "В LMS пойдёт эта оценка заскейленная в промедуток от 1 до 10 и округлённая. \n",
    "\n",
    "Все комментарии к заданиям писать в Jupyter Notebook.\n",
    "\n",
    "Финальный Jupyter Notebook с этим заданием нужно загрузить на github в публичный репозиторий и в качестве результата выполнения данного задания - скинуть ссылку в комментарии к заданию в LMS. \n",
    "\n",
    "Все вопросы - в слак. Желательно в общий чат, потому как если у вас есть вопрос, возможно он волнует не только вас. Глупых вопросов - нет, мы же учимся :)"
   ]
  },
  {
   "cell_type": "code",
   "execution_count": null,
   "metadata": {},
   "outputs": [],
   "source": []
  }
 ],
 "metadata": {
  "kernelspec": {
   "display_name": "Python 3",
   "language": "python",
   "name": "python3"
  },
  "language_info": {
   "codemirror_mode": {
    "name": "ipython",
    "version": 3
   },
   "file_extension": ".py",
   "mimetype": "text/x-python",
   "name": "python",
   "nbconvert_exporter": "python",
   "pygments_lexer": "ipython3",
   "version": "3.7.4"
  }
 },
 "nbformat": 4,
 "nbformat_minor": 2
}
