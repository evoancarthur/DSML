{
 "cells": [
  {
   "cell_type": "markdown",
   "metadata": {},
   "source": [
    "# Task 2"
   ]
  },
  {
   "cell_type": "markdown",
   "metadata": {},
   "source": [
    "В этом упражнении вы будете реализовывать линейную регрессию с одной\n",
    "переменной, чтобы предсказать прибыль для продовольственного грузовика. Предположим, вы являетесь генеральным директором сети ресторанов с франшизой и хотите понять, где открыть новые заведения. Сеть ресторанов уже имеет грузовики в разных городах, и у вас есть данные о прибыли населения в городах.\n",
    "Вы хотели бы использовать эти данные, чтобы помочь вам выбрать, на какой город расшириться в ближайшем будущем.\n",
    "\n",
    "Файл \"ex1data1.csv\" содержит набор данных для нашей задачи линейной регрессии. \n",
    "\n",
    "Первый столбец - население города в 10 000 людей, то есть значение в данной колонке 17.592 означает, что в городе живёт 6.1101 * 10000 = 61 101 людей.\n",
    "\n",
    "Второй столбец - средняя прибыль продовольственного грузовика в месяц в этом городе в $1000 , то есть 17.592 * 1000 = $17 592 прибыли. Отрицательное значение для прибыли указывает на потери в этом городе, то есть еды привезли больше, чем продали в ресторане.\n",
    "\n",
    "Задача похожа на ту, что мы разбирали на лекции, только с дополнениями.\n",
    "\n",
    "Можно перенести необходимый код из лекционного ноутбука в отдельный .py файл или несколько и импортировать оттуда либо просто скопировать в новый ноутбук.\n",
    "\n",
    "Что предстоит сделать:"
   ]
  },
  {
   "cell_type": "code",
   "execution_count": 116,
   "metadata": {},
   "outputs": [],
   "source": [
    "import numpy as np\n",
    "import pandas as pd\n",
    "import seaborn as sns\n",
    "import matplotlib.pyplot as plt\n",
    "%matplotlib inline"
   ]
  },
  {
   "cell_type": "markdown",
   "metadata": {},
   "source": [
    "1. Считать данные в pandas dataframe (1 балл)."
   ]
  },
  {
   "cell_type": "code",
   "execution_count": 117,
   "metadata": {},
   "outputs": [
    {
     "data": {
      "text/html": [
       "<div>\n",
       "<style scoped>\n",
       "    .dataframe tbody tr th:only-of-type {\n",
       "        vertical-align: middle;\n",
       "    }\n",
       "\n",
       "    .dataframe tbody tr th {\n",
       "        vertical-align: top;\n",
       "    }\n",
       "\n",
       "    .dataframe thead th {\n",
       "        text-align: right;\n",
       "    }\n",
       "</style>\n",
       "<table border=\"1\" class=\"dataframe\">\n",
       "  <thead>\n",
       "    <tr style=\"text-align: right;\">\n",
       "      <th></th>\n",
       "      <th>population</th>\n",
       "      <th>profit</th>\n",
       "    </tr>\n",
       "  </thead>\n",
       "  <tbody>\n",
       "    <tr>\n",
       "      <td>0</td>\n",
       "      <td>6.1101</td>\n",
       "      <td>17.5920</td>\n",
       "    </tr>\n",
       "    <tr>\n",
       "      <td>1</td>\n",
       "      <td>5.5277</td>\n",
       "      <td>9.1302</td>\n",
       "    </tr>\n",
       "    <tr>\n",
       "      <td>2</td>\n",
       "      <td>8.5186</td>\n",
       "      <td>13.6620</td>\n",
       "    </tr>\n",
       "    <tr>\n",
       "      <td>3</td>\n",
       "      <td>7.0032</td>\n",
       "      <td>11.8540</td>\n",
       "    </tr>\n",
       "    <tr>\n",
       "      <td>4</td>\n",
       "      <td>5.8598</td>\n",
       "      <td>6.8233</td>\n",
       "    </tr>\n",
       "  </tbody>\n",
       "</table>\n",
       "</div>"
      ],
      "text/plain": [
       "   population   profit\n",
       "0      6.1101  17.5920\n",
       "1      5.5277   9.1302\n",
       "2      8.5186  13.6620\n",
       "3      7.0032  11.8540\n",
       "4      5.8598   6.8233"
      ]
     },
     "execution_count": 117,
     "metadata": {},
     "output_type": "execute_result"
    }
   ],
   "source": [
    "data = pd.read_csv('ex1data1.csv')\n",
    "data.head()"
   ]
  },
  {
   "cell_type": "markdown",
   "metadata": {},
   "source": [
    "2. Построить scatter plot зависимости прибыли от кол-ва людей в городе (1 балл)."
   ]
  },
  {
   "cell_type": "code",
   "execution_count": 118,
   "metadata": {},
   "outputs": [
    {
     "data": {
      "image/png": "[encoded data removed]",
      "text/plain": [
       "<Figure size 432x288 with 1 Axes>"
      ]
     },
     "metadata": {
      "needs_background": "light"
     },
     "output_type": "display_data"
    }
   ],
   "source": [
    "data.plot(kind='scatter', x='population', y='profit', title='зависимости прибыли от кол-ва людей в городе');"
   ]
  },
  {
   "cell_type": "markdown",
   "metadata": {},
   "source": [
    "3. Найти матрицу Х и вектор у. Нормализировать данные. Добавить колонку единичек к матрице Х (1 балл)."
   ]
  },
  {
   "cell_type": "code",
   "execution_count": 119,
   "metadata": {},
   "outputs": [
    {
     "name": "stdout",
     "output_type": "stream",
     "text": [
      "X <class 'numpy.ndarray'> (97, 2)\n",
      "y <class 'numpy.ndarray'> (97, 1)\n"
     ]
    }
   ],
   "source": [
    "\n",
    "from sklearn import preprocessing\n",
    "\n",
    "vals = data[\"population\"].values.reshape((-1,1))\n",
    "\n",
    "scaler = preprocessing.MinMaxScaler()\n",
    "scaled = scaler.fit_transform(vals)\n",
    "\n",
    "X = np.hstack((np.ones((vals.shape[0], 1)), scaled)) \n",
    "y = data['profit'].values.reshape((-1,1))\n",
    "\n",
    "print('X',type(X),X.shape)\n",
    "print('y', type(y), y.shape)"
   ]
  },
  {
   "cell_type": "markdown",
   "metadata": {},
   "source": [
    "4. Написать снова или найти в лекционном ноутбуке фукнции mserror, linear_prediction в матричной форме (то есть НЕ через циклы) (1 балл)"
   ]
  },
  {
   "cell_type": "code",
   "execution_count": 120,
   "metadata": {},
   "outputs": [],
   "source": [
    "def linear_prediction(X, theta): \n",
    "    return np.dot(X, theta) \n",
    "\n",
    "# function to compute gradient of error function w.r.t. theta \n",
    "def gradient(X, y, theta): \n",
    "    p = linear_prediction(X, theta) \n",
    "    grad = np.dot(X.transpose(), (p - y)) \n",
    "    return grad \n",
    "  \n",
    "# function to compute the error for current values of theta \n",
    "def cost(X, y, theta): \n",
    "    p = linear_prediction(X, theta) \n",
    "    J = np.dot((p - y).transpose(), (p - y)) \n",
    "    J /= 2\n",
    "    return J[0] \n",
    "  \n",
    "# function to create a list containing mini-batches \n",
    "def create_mini_batches(X, y, batch_size): \n",
    "    mini_batches = [] \n",
    "    data = np.hstack((X, y)) \n",
    "    np.random.shuffle(data) \n",
    "    n_minibatches = data.shape[0] // batch_size \n",
    "    i = 0\n",
    "  \n",
    "    for i in range(n_minibatches + 1): \n",
    "        mini_batch = data[i * batch_size:(i + 1)*batch_size, :] \n",
    "        X_mini = mini_batch[:, :-1] \n",
    "        Y_mini = mini_batch[:, -1].reshape((-1, 1)) \n",
    "        mini_batches.append((X_mini, Y_mini)) \n",
    "    if data.shape[0] % batch_size != 0: \n",
    "        mini_batch = data[i * batch_size:data.shape[0]] \n",
    "        X_mini = mini_batch[:, :-1] \n",
    "        Y_mini = mini_batch[:, -1].reshape((-1, 1)) \n",
    "        mini_batches.append((X_mini, Y_mini)) \n",
    "    return mini_batches \n",
    "  \n",
    "# function to perform mini-batch gradient descent \n",
    "def gradientDescent(X, y, learning_rate = 0.001, batch_size = 32): \n",
    "    theta = np.zeros((X.shape[1], 1)) \n",
    "    error_list = [] \n",
    "    max_iters = 3\n",
    "    for itr in range(max_iters): \n",
    "        mini_batches = create_mini_batches(X, y, batch_size) \n",
    "        for mini_batch in mini_batches: \n",
    "            X_mini, y_mini = mini_batch \n",
    "            theta = theta - learning_rate * gradient(X_mini, y_mini, theta) \n",
    "            error_list.append(cost(X_mini, y_mini, theta)) \n",
    "  \n",
    "    return theta, error_list "
   ]
  },
  {
   "cell_type": "markdown",
   "metadata": {},
   "source": [
    "5. Найти коэффициенты линейной модели методами:\n",
    "    1. Full batch gradient descent (5 баллов если коэффициенты правильные получатся правильные)"
   ]
  },
  {
   "cell_type": "code",
   "execution_count": 123,
   "metadata": {},
   "outputs": [
    {
     "name": "stdout",
     "output_type": "stream",
     "text": [
      "2.992669190930902\n"
     ]
    }
   ],
   "source": [
    "from math import sqrt\n",
    "\n",
    "FB_X = data['population'].values\n",
    "FB_y = data['profit'].values\n",
    "\n",
    "m_current=0\n",
    "b_current=0\n",
    "\n",
    "epochs=100000\n",
    "learning_rate=0.0001\n",
    "N = float(len(y))\n",
    "\n",
    "for i in range(epochs):\n",
    "    y_current = (m_current * FB_X) + b_current\n",
    "    cost = sum([data**2 for data in (FB_y-y_current)]) / N\n",
    "    rmse = sqrt(cost)\n",
    "\n",
    "    m_gradient = -(2/N) * sum(FB_X * (FB_y - y_current))\n",
    "    b_gradient = -(2/N) * sum(FB_y - y_current)\n",
    "\n",
    "    m_current = m_current - (learning_rate * m_gradient)\n",
    "    b_current = b_current - (learning_rate * b_gradient)\n",
    "\n",
    "print(rmse)"
   ]
  },
  {
   "cell_type": "markdown",
   "metadata": {},
   "source": [
    "2. Mini batch gradient descent с размером батча 32 (5 баллов если коэффициенты получатся правильные)"
   ]
  },
  {
   "cell_type": "code",
   "execution_count": 125,
   "metadata": {},
   "outputs": [
    {
     "name": "stdout",
     "output_type": "stream",
     "text": [
      "[[1.50741396]\n",
      " [0.57156169]] [[1.         0.06306437]\n",
      " [1.         0.02915679]\n",
      " [1.         0.20328829]\n",
      " [1.         0.11506104]\n",
      " [1.         0.0484918 ]] [[17.592 ]\n",
      " [ 9.1302]\n",
      " [13.662 ]\n",
      " [11.854 ]\n",
      " [ 6.8233]]\n"
     ]
    }
   ],
   "source": [
    "print(theta, X[:5], y[:5])"
   ]
  },
  {
   "cell_type": "code",
   "execution_count": 124,
   "metadata": {},
   "outputs": [
    {
     "ename": "TypeError",
     "evalue": "'numpy.float64' object is not callable",
     "output_type": "error",
     "traceback": [
      "\u001b[1;31m---------------------------------------------------------------------------\u001b[0m",
      "\u001b[1;31mTypeError\u001b[0m                                 Traceback (most recent call last)",
      "\u001b[1;32m<ipython-input-124-37ed10a2347c>\u001b[0m in \u001b[0;36m<module>\u001b[1;34m\u001b[0m\n\u001b[1;32m----> 1\u001b[1;33m \u001b[0mtheta\u001b[0m\u001b[1;33m,\u001b[0m \u001b[0merror_list\u001b[0m \u001b[1;33m=\u001b[0m \u001b[0mgradientDescent\u001b[0m\u001b[1;33m(\u001b[0m\u001b[0mX\u001b[0m\u001b[1;33m,\u001b[0m \u001b[0my\u001b[0m\u001b[1;33m)\u001b[0m\u001b[1;33m\u001b[0m\u001b[1;33m\u001b[0m\u001b[0m\n\u001b[0m\u001b[0;32m      2\u001b[0m \u001b[0mprint\u001b[0m\u001b[1;33m(\u001b[0m\u001b[1;34m\"Bias = \"\u001b[0m\u001b[1;33m,\u001b[0m \u001b[0mtheta\u001b[0m\u001b[1;33m[\u001b[0m\u001b[1;36m0\u001b[0m\u001b[1;33m]\u001b[0m\u001b[1;33m)\u001b[0m\u001b[1;33m\u001b[0m\u001b[1;33m\u001b[0m\u001b[0m\n\u001b[0;32m      3\u001b[0m \u001b[0mprint\u001b[0m\u001b[1;33m(\u001b[0m\u001b[1;34m\"Coefficients = \"\u001b[0m\u001b[1;33m,\u001b[0m \u001b[0mtheta\u001b[0m\u001b[1;33m[\u001b[0m\u001b[1;36m1\u001b[0m\u001b[1;33m:\u001b[0m\u001b[1;33m]\u001b[0m\u001b[1;33m)\u001b[0m\u001b[1;33m\u001b[0m\u001b[1;33m\u001b[0m\u001b[0m\n\u001b[0;32m      4\u001b[0m \u001b[1;33m\u001b[0m\u001b[0m\n\u001b[0;32m      5\u001b[0m \u001b[1;31m# visualising gradient descent\u001b[0m\u001b[1;33m\u001b[0m\u001b[1;33m\u001b[0m\u001b[1;33m\u001b[0m\u001b[0m\n",
      "\u001b[1;32m<ipython-input-120-5189b304333c>\u001b[0m in \u001b[0;36mgradientDescent\u001b[1;34m(X, y, learning_rate, batch_size)\u001b[0m\n\u001b[0;32m     45\u001b[0m             \u001b[0mX_mini\u001b[0m\u001b[1;33m,\u001b[0m \u001b[0my_mini\u001b[0m \u001b[1;33m=\u001b[0m \u001b[0mmini_batch\u001b[0m\u001b[1;33m\u001b[0m\u001b[1;33m\u001b[0m\u001b[0m\n\u001b[0;32m     46\u001b[0m             \u001b[0mtheta\u001b[0m \u001b[1;33m=\u001b[0m \u001b[0mtheta\u001b[0m \u001b[1;33m-\u001b[0m \u001b[0mlearning_rate\u001b[0m \u001b[1;33m*\u001b[0m \u001b[0mgradient\u001b[0m\u001b[1;33m(\u001b[0m\u001b[0mX_mini\u001b[0m\u001b[1;33m,\u001b[0m \u001b[0my_mini\u001b[0m\u001b[1;33m,\u001b[0m \u001b[0mtheta\u001b[0m\u001b[1;33m)\u001b[0m\u001b[1;33m\u001b[0m\u001b[1;33m\u001b[0m\u001b[0m\n\u001b[1;32m---> 47\u001b[1;33m             \u001b[0merror_list\u001b[0m\u001b[1;33m.\u001b[0m\u001b[0mappend\u001b[0m\u001b[1;33m(\u001b[0m\u001b[0mcost\u001b[0m\u001b[1;33m(\u001b[0m\u001b[0mX_mini\u001b[0m\u001b[1;33m,\u001b[0m \u001b[0my_mini\u001b[0m\u001b[1;33m,\u001b[0m \u001b[0mtheta\u001b[0m\u001b[1;33m)\u001b[0m\u001b[1;33m)\u001b[0m\u001b[1;33m\u001b[0m\u001b[1;33m\u001b[0m\u001b[0m\n\u001b[0m\u001b[0;32m     48\u001b[0m \u001b[1;33m\u001b[0m\u001b[0m\n\u001b[0;32m     49\u001b[0m     \u001b[1;32mreturn\u001b[0m \u001b[0mtheta\u001b[0m\u001b[1;33m,\u001b[0m \u001b[0merror_list\u001b[0m\u001b[1;33m\u001b[0m\u001b[1;33m\u001b[0m\u001b[0m\n",
      "\u001b[1;31mTypeError\u001b[0m: 'numpy.float64' object is not callable"
     ]
    }
   ],
   "source": [
    "theta, error_list = gradientDescent(X, y) \n",
    "print(\"Bias = \", theta[0]) \n",
    "print(\"Coefficients = \", theta[1:]) \n",
    "  \n",
    "# visualising gradient descent \n",
    "plt.plot(error_list) \n",
    "plt.xlabel(\"Number of iterations\") \n",
    "plt.ylabel(\"Cost\") \n",
    "plt.show() "
   ]
  },
  {
   "cell_type": "code",
   "execution_count": null,
   "metadata": {},
   "outputs": [],
   "source": [
    "theta, error_list = gradientDescent(X_train, y_train) \n",
    "print(\"Bias = \", theta[0]) \n",
    "print(\"Coefficients = \", theta[1:]) \n",
    "  \n",
    "# visualising gradient descent \n",
    "plt.plot(error_list) \n",
    "plt.xlabel(\"Number of iterations\") \n",
    "plt.ylabel(\"Cost\") \n",
    "plt.show() "
   ]
  },
  {
   "cell_type": "code",
   "execution_count": null,
   "metadata": {},
   "outputs": [],
   "source": [
    "# predicting output for X_test \n",
    "y_pred = linear_prediction(X_test, theta) \n",
    "plt.scatter(X_test[:, 1], y_test[:, ], marker = '.') \n",
    "plt.plot(X_test[:, 1], y_pred, color = 'orange') \n",
    "plt.show() \n",
    "  \n",
    "# calculating error in predictions \n",
    "error = np.sum(np.abs(y_test - y_pred) / y_test.shape[0]) \n",
    "print(\"Mean absolute error = \", error) "
   ]
  },
  {
   "cell_type": "markdown",
   "metadata": {},
   "source": [
    "3. Stochastic gradient descent (1 балл если коэффициенты получатся правильные - потому что это уже делали на лекции)"
   ]
  },
  {
   "cell_type": "code",
   "execution_count": 25,
   "metadata": {},
   "outputs": [
    {
     "name": "stdout",
     "output_type": "stream",
     "text": [
      "RMSE:  3.2701674865386274\n"
     ]
    }
   ],
   "source": [
    "from sklearn import linear_model\n",
    "from sklearn.metrics import mean_squared_error\n",
    "from math import sqrt\n",
    "\n",
    "x = data['population'].values.reshape(-1,1)\n",
    "y = data['profit'].values.reshape(-1,1).ravel()\n",
    "\n",
    "Model = linear_model.SGDRegressor(alpha = 0.0001, shuffle=True, max_iter = 100000)\n",
    "Model.fit(x,y)\n",
    "y_predicted = Model.predict(x)\n",
    "\n",
    "mse = mean_squared_error(y, y_predicted)\n",
    "print(\"RMSE: \", sqrt(mse))"
   ]
  },
  {
   "cell_type": "markdown",
   "metadata": {},
   "source": [
    "Для каждого метода (кол-во баллов - за правильную реализацию для каждого из трёх методов):"
   ]
  },
  {
   "cell_type": "code",
   "execution_count": null,
   "metadata": {},
   "outputs": [],
   "source": []
  },
  {
   "cell_type": "markdown",
   "metadata": {},
   "source": [
    "- самостоятельно выбрать количество эпох, обосновать выбор (1 балл). Количество эпох для разных моделей может быть разным, а может быть одинаковым. Кол-во эпох можно выбирать из соображений времени на обучение (видим, что одна итерация занимает 2 секунды и понимаетм, что 10к итераций займут слишком много времени - значит надо бы поставить поменьше) или когда ошибка начинает меняться слишком незначительно, к примеру."
   ]
  },
  {
   "cell_type": "code",
   "execution_count": null,
   "metadata": {},
   "outputs": [],
   "source": []
  },
  {
   "cell_type": "markdown",
   "metadata": {},
   "source": [
    "- вывести график ошибки в процессе обучения с подписями осей абсцисс и ординат  (1 балл)"
   ]
  },
  {
   "cell_type": "code",
   "execution_count": null,
   "metadata": {},
   "outputs": [],
   "source": []
  },
  {
   "cell_type": "markdown",
   "metadata": {},
   "source": [
    " - измерить время обучения и провести анализ, какой из методов работает быстрее (5 баллов)"
   ]
  },
  {
   "cell_type": "code",
   "execution_count": null,
   "metadata": {},
   "outputs": [],
   "source": []
  },
  {
   "cell_type": "markdown",
   "metadata": {},
   "source": [
    "- вывести в ноутбуке полученные в результате применения метода коэффициенты (2 балла)"
   ]
  },
  {
   "cell_type": "code",
   "execution_count": null,
   "metadata": {},
   "outputs": [],
   "source": []
  },
  {
   "cell_type": "markdown",
   "metadata": {},
   "source": [
    "- вывести ошибку финальной модели (2 балла)"
   ]
  },
  {
   "cell_type": "code",
   "execution_count": null,
   "metadata": {},
   "outputs": [],
   "source": []
  },
  {
   "cell_type": "markdown",
   "metadata": {},
   "source": [
    "6. Построить аналогичную предыдущим модель с использованием sklearn.linear_model.LinearRegression . Подумать, какие данные подать на вход и исходя из документации, какие параметры обучения выбрать (10 баллов)."
   ]
  },
  {
   "cell_type": "code",
   "execution_count": null,
   "metadata": {},
   "outputs": [],
   "source": []
  },
  {
   "cell_type": "markdown",
   "metadata": {},
   "source": [
    "7. Сравнить качество четырёх моделей и написать, какая - лучшая."
   ]
  },
  {
   "cell_type": "code",
   "execution_count": null,
   "metadata": {},
   "outputs": [],
   "source": []
  },
  {
   "cell_type": "markdown",
   "metadata": {},
   "source": [
    "Итого, максимальный балл - 1+1+1+1+5+5+1+3*(1+1+5+2+2)+10 = 58\n",
    "\n",
    "В LMS пойдёт эта оценка заскейленная в промедуток от 1 до 10 и округлённая. \n",
    "\n",
    "Все комментарии к заданиям писать в Jupyter Notebook.\n",
    "\n",
    "Финальный Jupyter Notebook с этим заданием нужно загрузить на github в публичный репозиторий и в качестве результата выполнения данного задания - скинуть ссылку в комментарии к заданию в LMS. \n",
    "\n",
    "Все вопросы - в слак. Желательно в общий чат, потому как если у вас есть вопрос, возможно он волнует не только вас. Глупых вопросов - нет, мы же учимся :)"
   ]
  },
  {
   "cell_type": "code",
   "execution_count": null,
   "metadata": {},
   "outputs": [],
   "source": []
  }
 ],
 "metadata": {
  "kernelspec": {
   "display_name": "Python 3",
   "language": "python",
   "name": "python3"
  },
  "language_info": {
   "codemirror_mode": {
    "name": "ipython",
    "version": 3
   },
   "file_extension": ".py",
   "mimetype": "text/x-python",
   "name": "python",
   "nbconvert_exporter": "python",
   "pygments_lexer": "ipython3",
   "version": "3.7.4"
  }
 },
 "nbformat": 4,
 "nbformat_minor": 2
}
